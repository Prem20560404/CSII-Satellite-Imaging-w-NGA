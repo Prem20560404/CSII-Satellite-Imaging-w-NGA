{
  "cells": [
    {
      "cell_type": "markdown",
      "metadata": {
        "id": "view-in-github",
        "colab_type": "text"
      },
      "source": [
        "<a href=\"https://colab.research.google.com/github/Prem20560404/CSproject/blob/master/custom.ipynb\" target=\"_parent\"><img src=\"https://colab.research.google.com/assets/colab-badge.svg\" alt=\"Open In Colab\"/></a>"
      ]
    },
    {
      "cell_type": "code",
      "execution_count": null,
      "metadata": {
        "colab": {
          "base_uri": "https://localhost:8080/"
        },
        "id": "FTgdiqbhtMct",
        "outputId": "7049457e-db31-4feb-84ca-7562510f4144"
      },
      "outputs": [
        {
          "name": "stdout",
          "output_type": "stream",
          "text": [
            "Mounted at /content/drive\n"
          ]
        }
      ],
      "source": [
        "from google.colab import drive\n",
        "drive.mount('/content/drive')"
      ]
    },
    {
      "cell_type": "code",
      "execution_count": null,
      "metadata": {
        "colab": {
          "base_uri": "https://localhost:8080/"
        },
        "id": "7bsrleid57je",
        "outputId": "6a82f604-d65c-46bf-e048-69d18caeb046"
      },
      "outputs": [
        {
          "output_type": "stream",
          "name": "stdout",
          "text": [
            "/content/drive/MyDrive/csproject\n"
          ]
        }
      ],
      "source": [
        "cd /content/drive/MyDrive/csproject"
      ]
    },
    {
      "cell_type": "code",
      "execution_count": null,
      "metadata": {
        "colab": {
          "base_uri": "https://localhost:8080/"
        },
        "id": "Xu4dA0vyAc-w",
        "outputId": "b6715c6c-0bb4-439a-8978-c12a0abbc44b"
      },
      "outputs": [
        {
          "output_type": "stream",
          "name": "stdout",
          "text": [
            "Found existing installation: Keras 2.0.8\n",
            "Uninstalling Keras-2.0.8:\n",
            "  Successfully uninstalled Keras-2.0.8\n",
            "\u001b[33mWARNING: Skipping keras-nightly as it is not installed.\u001b[0m\n",
            "Found existing installation: Keras-Preprocessing 1.1.2\n",
            "Uninstalling Keras-Preprocessing-1.1.2:\n",
            "  Successfully uninstalled Keras-Preprocessing-1.1.2\n",
            "Found existing installation: keras-vis 0.4.1\n",
            "Uninstalling keras-vis-0.4.1:\n",
            "  Successfully uninstalled keras-vis-0.4.1\n",
            "Found existing installation: tensorflow 1.13.1\n",
            "Uninstalling tensorflow-1.13.1:\n",
            "  Successfully uninstalled tensorflow-1.13.1\n",
            "Found existing installation: h5py 2.10.0\n",
            "Uninstalling h5py-2.10.0:\n",
            "  Successfully uninstalled h5py-2.10.0\n"
          ]
        }
      ],
      "source": [
        "!pip uninstall keras -y\n",
        "!pip uninstall keras-nightly -y\n",
        "!pip uninstall keras-Preprocessing -y\n",
        "!pip uninstall keras-vis -y\n",
        "!pip uninstall tensorflow -y\n",
        "!pip uninstall h5py -y\n"
      ]
    },
    {
      "cell_type": "code",
      "execution_count": null,
      "metadata": {
        "colab": {
          "base_uri": "https://localhost:8080/"
        },
        "id": "21QxDri1IGxo",
        "outputId": "17c1673e-7cfa-4fd4-d5ac-634bbbff0195"
      },
      "outputs": [
        {
          "output_type": "stream",
          "name": "stdout",
          "text": [
            "Collecting tensorflow==1.13.1\n",
            "  Using cached tensorflow-1.13.1-cp37-cp37m-manylinux1_x86_64.whl (92.6 MB)\n",
            "Requirement already satisfied: gast>=0.2.0 in /usr/local/lib/python3.7/dist-packages (from tensorflow==1.13.1) (0.4.0)\n",
            "Collecting keras-preprocessing>=1.0.5\n",
            "  Downloading Keras_Preprocessing-1.1.2-py2.py3-none-any.whl (42 kB)\n",
            "\u001b[K     |████████████████████████████████| 42 kB 1.1 MB/s \n",
            "\u001b[?25hRequirement already satisfied: six>=1.10.0 in /usr/local/lib/python3.7/dist-packages (from tensorflow==1.13.1) (1.15.0)\n",
            "Requirement already satisfied: tensorboard<1.14.0,>=1.13.0 in /usr/local/lib/python3.7/dist-packages (from tensorflow==1.13.1) (1.13.1)\n",
            "Requirement already satisfied: numpy>=1.13.3 in /usr/local/lib/python3.7/dist-packages (from tensorflow==1.13.1) (1.19.5)\n",
            "Requirement already satisfied: astor>=0.6.0 in /usr/local/lib/python3.7/dist-packages (from tensorflow==1.13.1) (0.8.1)\n",
            "Requirement already satisfied: absl-py>=0.1.6 in /usr/local/lib/python3.7/dist-packages (from tensorflow==1.13.1) (0.12.0)\n",
            "Requirement already satisfied: termcolor>=1.1.0 in /usr/local/lib/python3.7/dist-packages (from tensorflow==1.13.1) (1.1.0)\n",
            "Requirement already satisfied: grpcio>=1.8.6 in /usr/local/lib/python3.7/dist-packages (from tensorflow==1.13.1) (1.42.0)\n",
            "Requirement already satisfied: wheel>=0.26 in /usr/local/lib/python3.7/dist-packages (from tensorflow==1.13.1) (0.37.0)\n",
            "Requirement already satisfied: tensorflow-estimator<1.14.0rc0,>=1.13.0 in /usr/local/lib/python3.7/dist-packages (from tensorflow==1.13.1) (1.13.0)\n",
            "Requirement already satisfied: protobuf>=3.6.1 in /usr/local/lib/python3.7/dist-packages (from tensorflow==1.13.1) (3.17.3)\n",
            "Requirement already satisfied: keras-applications>=1.0.6 in /usr/local/lib/python3.7/dist-packages (from tensorflow==1.13.1) (1.0.8)\n",
            "Collecting h5py\n",
            "  Downloading h5py-3.6.0-cp37-cp37m-manylinux_2_12_x86_64.manylinux2010_x86_64.whl (4.1 MB)\n",
            "\u001b[K     |████████████████████████████████| 4.1 MB 29.5 MB/s \n",
            "\u001b[?25hRequirement already satisfied: werkzeug>=0.11.15 in /usr/local/lib/python3.7/dist-packages (from tensorboard<1.14.0,>=1.13.0->tensorflow==1.13.1) (1.0.1)\n",
            "Requirement already satisfied: markdown>=2.6.8 in /usr/local/lib/python3.7/dist-packages (from tensorboard<1.14.0,>=1.13.0->tensorflow==1.13.1) (3.3.6)\n",
            "Requirement already satisfied: importlib-metadata>=4.4 in /usr/local/lib/python3.7/dist-packages (from markdown>=2.6.8->tensorboard<1.14.0,>=1.13.0->tensorflow==1.13.1) (4.8.2)\n",
            "Requirement already satisfied: typing-extensions>=3.6.4 in /usr/local/lib/python3.7/dist-packages (from importlib-metadata>=4.4->markdown>=2.6.8->tensorboard<1.14.0,>=1.13.0->tensorflow==1.13.1) (3.10.0.2)\n",
            "Requirement already satisfied: zipp>=0.5 in /usr/local/lib/python3.7/dist-packages (from importlib-metadata>=4.4->markdown>=2.6.8->tensorboard<1.14.0,>=1.13.0->tensorflow==1.13.1) (3.6.0)\n",
            "Requirement already satisfied: mock>=2.0.0 in /usr/local/lib/python3.7/dist-packages (from tensorflow-estimator<1.14.0rc0,>=1.13.0->tensorflow==1.13.1) (4.0.3)\n",
            "Requirement already satisfied: cached-property in /usr/local/lib/python3.7/dist-packages (from h5py->keras-applications>=1.0.6->tensorflow==1.13.1) (1.5.2)\n",
            "Installing collected packages: h5py, keras-preprocessing, tensorflow\n",
            "\u001b[31mERROR: pip's dependency resolver does not currently take into account all the packages that are installed. This behaviour is the source of the following dependency conflicts.\n",
            "kapre 0.3.6 requires tensorflow>=2.0.0, but you have tensorflow 1.13.1 which is incompatible.\u001b[0m\n",
            "Successfully installed h5py-3.6.0 keras-preprocessing-1.1.2 tensorflow-1.13.1\n",
            "Collecting keras==2.0.8\n",
            "  Using cached Keras-2.0.8-py2.py3-none-any.whl (276 kB)\n",
            "Requirement already satisfied: scipy>=0.14 in /usr/local/lib/python3.7/dist-packages (from keras==2.0.8) (1.4.1)\n",
            "Requirement already satisfied: six>=1.9.0 in /usr/local/lib/python3.7/dist-packages (from keras==2.0.8) (1.15.0)\n",
            "Requirement already satisfied: pyyaml in /usr/local/lib/python3.7/dist-packages (from keras==2.0.8) (3.13)\n",
            "Requirement already satisfied: numpy>=1.9.1 in /usr/local/lib/python3.7/dist-packages (from keras==2.0.8) (1.19.5)\n",
            "Installing collected packages: keras\n",
            "Successfully installed keras-2.0.8\n",
            "Collecting h5py==2.10.0\n",
            "  Using cached h5py-2.10.0-cp37-cp37m-manylinux1_x86_64.whl (2.9 MB)\n",
            "Requirement already satisfied: six in /usr/local/lib/python3.7/dist-packages (from h5py==2.10.0) (1.15.0)\n",
            "Requirement already satisfied: numpy>=1.7 in /usr/local/lib/python3.7/dist-packages (from h5py==2.10.0) (1.19.5)\n",
            "Installing collected packages: h5py\n",
            "  Attempting uninstall: h5py\n",
            "    Found existing installation: h5py 3.6.0\n",
            "    Uninstalling h5py-3.6.0:\n",
            "      Successfully uninstalled h5py-3.6.0\n",
            "Successfully installed h5py-2.10.0\n",
            "Requirement already satisfied: scikit-image==0.16.2 in /usr/local/lib/python3.7/dist-packages (0.16.2)\n",
            "Requirement already satisfied: networkx>=2.0 in /usr/local/lib/python3.7/dist-packages (from scikit-image==0.16.2) (2.6.3)\n",
            "Requirement already satisfied: imageio>=2.3.0 in /usr/local/lib/python3.7/dist-packages (from scikit-image==0.16.2) (2.4.1)\n",
            "Requirement already satisfied: matplotlib!=3.0.0,>=2.0.0 in /usr/local/lib/python3.7/dist-packages (from scikit-image==0.16.2) (3.2.2)\n",
            "Requirement already satisfied: pillow>=4.3.0 in /usr/local/lib/python3.7/dist-packages (from scikit-image==0.16.2) (7.1.2)\n",
            "Requirement already satisfied: PyWavelets>=0.4.0 in /usr/local/lib/python3.7/dist-packages (from scikit-image==0.16.2) (1.2.0)\n",
            "Requirement already satisfied: scipy>=0.19.0 in /usr/local/lib/python3.7/dist-packages (from scikit-image==0.16.2) (1.4.1)\n",
            "Requirement already satisfied: numpy in /usr/local/lib/python3.7/dist-packages (from imageio>=2.3.0->scikit-image==0.16.2) (1.19.5)\n",
            "Requirement already satisfied: cycler>=0.10 in /usr/local/lib/python3.7/dist-packages (from matplotlib!=3.0.0,>=2.0.0->scikit-image==0.16.2) (0.11.0)\n",
            "Requirement already satisfied: python-dateutil>=2.1 in /usr/local/lib/python3.7/dist-packages (from matplotlib!=3.0.0,>=2.0.0->scikit-image==0.16.2) (2.8.2)\n",
            "Requirement already satisfied: kiwisolver>=1.0.1 in /usr/local/lib/python3.7/dist-packages (from matplotlib!=3.0.0,>=2.0.0->scikit-image==0.16.2) (1.3.2)\n",
            "Requirement already satisfied: pyparsing!=2.0.4,!=2.1.2,!=2.1.6,>=2.0.1 in /usr/local/lib/python3.7/dist-packages (from matplotlib!=3.0.0,>=2.0.0->scikit-image==0.16.2) (3.0.6)\n",
            "Requirement already satisfied: six>=1.5 in /usr/local/lib/python3.7/dist-packages (from python-dateutil>=2.1->matplotlib!=3.0.0,>=2.0.0->scikit-image==0.16.2) (1.15.0)\n"
          ]
        }
      ],
      "source": [
        "!pip install tensorflow==1.13.1\n",
        "!pip install keras==2.0.8\n",
        "!pip install h5py==2.10.0\n",
        "!pip install -U scikit-image==0.16.2"
      ]
    },
    {
      "cell_type": "code",
      "execution_count": null,
      "metadata": {
        "colab": {
          "base_uri": "https://localhost:8080/",
          "height": 356
        },
        "id": "t91gWtLt7hUI",
        "outputId": "e9ab4d9b-c122-42e8-da1d-e5f13e5ae52d"
      },
      "outputs": [
        {
          "output_type": "error",
          "ename": "ModuleNotFoundError",
          "evalue": "ignored",
          "traceback": [
            "\u001b[0;31m---------------------------------------------------------------------------\u001b[0m",
            "\u001b[0;31mModuleNotFoundError\u001b[0m                       Traceback (most recent call last)",
            "\u001b[0;32m<ipython-input-2-12d36da7d8d4>\u001b[0m in \u001b[0;36m<module>\u001b[0;34m()\u001b[0m\n\u001b[1;32m      6\u001b[0m \u001b[0;32mimport\u001b[0m \u001b[0mskimage\u001b[0m\u001b[0;34m.\u001b[0m\u001b[0mdraw\u001b[0m\u001b[0;34m\u001b[0m\u001b[0;34m\u001b[0m\u001b[0m\n\u001b[1;32m      7\u001b[0m \u001b[0;32mimport\u001b[0m \u001b[0mcv2\u001b[0m\u001b[0;34m\u001b[0m\u001b[0;34m\u001b[0m\u001b[0m\n\u001b[0;32m----> 8\u001b[0;31m \u001b[0;32mfrom\u001b[0m \u001b[0mmrcnn\u001b[0m\u001b[0;34m.\u001b[0m\u001b[0mvisualize\u001b[0m \u001b[0;32mimport\u001b[0m \u001b[0mdisplay_instances\u001b[0m\u001b[0;34m\u001b[0m\u001b[0;34m\u001b[0m\u001b[0m\n\u001b[0m\u001b[1;32m      9\u001b[0m \u001b[0;32mimport\u001b[0m \u001b[0mmatplotlib\u001b[0m\u001b[0;34m.\u001b[0m\u001b[0mpyplot\u001b[0m \u001b[0;32mas\u001b[0m \u001b[0mplt\u001b[0m\u001b[0;34m\u001b[0m\u001b[0;34m\u001b[0m\u001b[0m\n",
            "\u001b[0;31mModuleNotFoundError\u001b[0m: No module named 'mrcnn'",
            "",
            "\u001b[0;31m---------------------------------------------------------------------------\u001b[0;32m\nNOTE: If your import is failing due to a missing package, you can\nmanually install dependencies using either !pip or !apt.\n\nTo view examples of installing some common dependencies, click the\n\"Open Examples\" button below.\n\u001b[0;31m---------------------------------------------------------------------------\u001b[0m\n"
          ],
          "errorDetails": {
            "actions": [
              {
                "action": "open_url",
                "actionText": "Open Examples",
                "url": "/notebooks/snippets/importing_libraries.ipynb"
              }
            ]
          }
        }
      ],
      "source": [
        "import os\n",
        "import sys\n",
        "import json\n",
        "import datetime\n",
        "import numpy as np\n",
        "import skimage.draw\n",
        "import cv2\n",
        "from mrcnn.visualize import display_instances\n",
        "import matplotlib.pyplot as plt"
      ]
    },
    {
      "cell_type": "code",
      "execution_count": null,
      "metadata": {
        "id": "AlSHeJNo6DeS"
      },
      "outputs": [],
      "source": [
        "ROOT_DIR = \"/content/drive/MyDrive/csproject\""
      ]
    },
    {
      "cell_type": "code",
      "execution_count": null,
      "metadata": {
        "colab": {
          "base_uri": "https://localhost:8080/"
        },
        "id": "vY4cTWVZAVvc",
        "outputId": "71974153-f726-4552-a8a2-e6cab885ea50"
      },
      "outputs": [
        {
          "name": "stderr",
          "output_type": "stream",
          "text": [
            "Using TensorFlow backend.\n"
          ]
        }
      ],
      "source": [
        "sys.path.append(ROOT_DIR)\n",
        "from mrcnn.config import Config\n",
        "from mrcnn import model as modellib, utils\n",
        "\n",
        "\n",
        "COCO_WEIGHTS_PATH = os.path.join(ROOT_DIR, \"mask_rcnn_coco.h5\")\n",
        "\n",
        "DEFAULT_LOGS_DIR = os.path.join(ROOT_DIR, \"logs\")"
      ]
    },
    {
      "cell_type": "code",
      "execution_count": null,
      "metadata": {
        "id": "91Qw27Yw6BZ3"
      },
      "outputs": [],
      "source": [
        "class CustomConfig(Config):\n",
        "\n",
        "    NAME = \"object\"\n",
        "\n",
        "\n",
        "    IMAGES_PER_GPU = 2\n",
        "\n",
        "\n",
        "    NUM_CLASSES = 1 + 3\n",
        "\n",
        "\n",
        "    STEPS_PER_EPOCH = 5\n",
        "\n",
        "    DETECTION_MIN_CONFIDENCE = 0.9"
      ]
    },
    {
      "cell_type": "code",
      "execution_count": null,
      "metadata": {
        "id": "oGCwN8l0JvkJ"
      },
      "outputs": [],
      "source": [
        "class CustomDataset(utils.Dataset):\n",
        "    def load_custom(self, dataset_dir, subset):\n",
        "\n",
        "        self.add_class(\"object\", 1, \"car\")\n",
        "        self.add_class(\"object\", 2, \"truck\")\n",
        "        self.add_class(\"object\",3,\"ocean\")\n",
        "\n",
        "\n",
        "        assert subset in [\"train\", \"val\"]\n",
        "        dataset_dir = os.path.join(dataset_dir, subset)\n",
        "\n",
        "        \n",
        "        annotations1 = json.load(open(\"/content/drive/MyDrive/csproject/Dataset/train/train_json.json\"))\n",
        "        print(annotations1)\n",
        "        annotations = list(annotations1.values())\n",
        "\n",
        "\n",
        "        annotations = [a for a in annotations if a['regions']]\n",
        "\n",
        "        for a in annotations:\n",
        "            polygons = [r['shape_attributes'] for r in a['regions']]\n",
        "            print([s['region_attributes'] for s in a['regions'] if 'names' not in s['region_attributes']])\n",
        "            objects = [s['region_attributes']['names'] for s in a['regions']if 'names' in s['region_attributes']]\n",
        "            print(\"objects:\",objects)\n",
        "\n",
        "            name_dict = {\"car\": 1,\"truck\": 2, \"ocean\": 3}\n",
        "                                                                                                              \n",
        "            num_ids = [name_dict[a] for a in objects]\n",
        "     \n",
        "\n",
        "            print(\"numids\",num_ids)\n",
        "            image_path = os.path.join(dataset_dir, a['filename'])\n",
        "            image = skimage.io.imread(image_path)\n",
        "            height, width = image.shape[:2]\n",
        "\n",
        "            self.add_image(\"object\", image_id=a['filename'],path=image_path, width=width, height=height, polygons=polygons, num_ids=num_ids)\n",
        "            \n",
        "\n",
        "    def load_mask(self, image_id):\n",
        "\n",
        "        image_info = self.image_info[image_id]\n",
        "        if image_info[\"source\"] != \"object\":\n",
        "            return super(self.__class__, self).load_mask(image_id)\n",
        "\n",
        "\n",
        "        info = self.image_info[image_id]\n",
        "        if info[\"source\"] != \"object\":\n",
        "            return super(self.__class__, self).load_mask(image_id)\n",
        "        num_ids = info['num_ids']\n",
        "        mask = np.zeros([info[\"height\"], info[\"width\"], len(info[\"polygons\"])], dtype=np.uint8)\n",
        "        for i, p in enumerate(info[\"polygons\"]):\n",
        "\n",
        "        \trr, cc = skimage.draw.polygon(p['all_points_y'], p['all_points_x'])\n",
        "\n",
        "        \tmask[rr, cc, i] = 1\n",
        "\n",
        "        num_ids = np.array(num_ids, dtype=np.int32)\n",
        "        return mask, num_ids\n",
        "\n",
        "\n",
        "    def image_reference(self, image_id):\n",
        "        \"\"\"Return the path of the image.\"\"\"\n",
        "        info = self.image_info[image_id]\n",
        "        if info[\"source\"] == \"object\":\n",
        "            return info[\"path\"]\n",
        "        else:\n",
        "            super(self.__class__, self).image_reference(image_id)\n",
        "\n",
        "\n",
        "    "
      ]
    },
    {
      "cell_type": "code",
      "execution_count": null,
      "metadata": {
        "id": "v79lsoei5PwK"
      },
      "outputs": [],
      "source": [
        "def train(model):\n",
        "      dataset_train = CustomDataset()\n",
        "      dataset_train.load_custom(\"/content/drive/MyDrive/csproject/Dataset\", \"train\")\n",
        "      dataset_train.prepare()\n",
        "\n",
        "  \n",
        "      dataset_val = CustomDataset()\n",
        "      dataset_val.load_custom(\"/content/drive/MyDrive/csproject/Dataset\", \"val\")\n",
        "      dataset_val.prepare()\n",
        "\n",
        "    \n",
        "      print(\"Training network heads\")\n",
        "      model.train(dataset_train, dataset_val, learning_rate=config.LEARNING_RATE, epochs=5, layers='heads')"
      ]
    },
    {
      "cell_type": "code",
      "execution_count": null,
      "metadata": {
        "colab": {
          "base_uri": "https://localhost:8080/"
        },
        "id": "-ohEKtaINT7T",
        "outputId": "0363549a-a0b8-4119-ba5c-fb2b38f59895"
      },
      "outputs": [
        {
          "name": "stdout",
          "output_type": "stream",
          "text": [
            "WARNING:tensorflow:From /usr/local/lib/python3.7/dist-packages/tensorflow/python/framework/op_def_library.py:263: colocate_with (from tensorflow.python.framework.ops) is deprecated and will be removed in a future version.\n",
            "Instructions for updating:\n",
            "Colocations handled automatically by placer.\n",
            "WARNING:tensorflow:From /usr/local/lib/python3.7/dist-packages/keras/backend/tensorflow_backend.py:1154: calling reduce_max_v1 (from tensorflow.python.ops.math_ops) with keep_dims is deprecated and will be removed in a future version.\n",
            "Instructions for updating:\n",
            "keep_dims is deprecated, use keepdims instead\n",
            "WARNING:tensorflow:From /usr/local/lib/python3.7/dist-packages/keras/backend/tensorflow_backend.py:1188: calling reduce_sum_v1 (from tensorflow.python.ops.math_ops) with keep_dims is deprecated and will be removed in a future version.\n",
            "Instructions for updating:\n",
            "keep_dims is deprecated, use keepdims instead\n"
          ]
        }
      ],
      "source": [
        "config = CustomConfig()\n",
        "model = modellib.MaskRCNN(mode=\"training\", config=config, model_dir=DEFAULT_LOGS_DIR)\n",
        "weights_path = COCO_WEIGHTS_PATH"
      ]
    },
    {
      "cell_type": "code",
      "execution_count": null,
      "metadata": {
        "id": "ooc84oEwNbHH"
      },
      "outputs": [],
      "source": [
        "if not os.path.exists(weights_path):\n",
        "  utils.download_trained_weights(weights_path)\n",
        "\n",
        "model.load_weights(weights_path, by_name=True, exclude=[\n",
        "            \"mrcnn_class_logits\", \"mrcnn_bbox_fc\",\n",
        "            \"mrcnn_bbox\", \"mrcnn_mask\"])"
      ]
    },
    {
      "cell_type": "code",
      "execution_count": null,
      "metadata": {
        "colab": {
          "background_save": true,
          "base_uri": "https://localhost:8080/"
        },
        "id": "vS0PxypwJND8",
        "outputId": "e49748ea-6a54-40d9-eae5-bd3fcfe00387"
      },
      "outputs": [
        {
          "name": "stdout",
          "output_type": "stream",
          "text": [
            "{'1.jpg171916': {'filename': '1.jpg', 'size': 171916, 'regions': [{'shape_attributes': {'name': 'polygon', 'all_points_x': [66, 72, 92, 95, 88, 72, 67], 'all_points_y': [234, 241, 245, 227, 220, 216, 218]}, 'region_attributes': {'names': 'car'}}, {'shape_attributes': {'name': 'polygon', 'all_points_x': [6, 31, 38, 36, 11, 4], 'all_points_y': [325, 329, 336, 355, 352, 346]}, 'region_attributes': {'names': 'car'}}, {'shape_attributes': {'name': 'polygon', 'all_points_x': [348, 369, 373, 370, 363, 347, 342], 'all_points_y': [237, 233, 224, 218, 216, 218, 226]}, 'region_attributes': {'names': 'car'}}, {'shape_attributes': {'name': 'polygon', 'all_points_x': [387, 403, 409, 409, 404, 386, 381], 'all_points_y': [229, 224, 218, 209, 204, 210, 216]}, 'region_attributes': {'names': 'car'}}, {'shape_attributes': {'name': 'polygon', 'all_points_x': [404, 426, 426, 424, 416, 398], 'all_points_y': [304, 298, 285, 278, 277, 286]}, 'region_attributes': {'names': 'car'}}, {'shape_attributes': {'name': 'polygon', 'all_points_x': [276, 275, 279, 289, 291, 291, 294, 300, 273, 270], 'all_points_y': [439, 420, 411, 410, 419, 440, 444, 509, 511, 448]}, 'region_attributes': {'names': 'truck'}}, {'shape_attributes': {'name': 'polygon', 'all_points_x': [58, 67, 89, 91, 78, 60], 'all_points_y': [351, 358, 359, 343, 336, 335]}, 'region_attributes': {'names': 'car'}}, {'shape_attributes': {'name': 'polygon', 'all_points_x': [117, 138, 144, 143, 133, 112], 'all_points_y': [364, 367, 353, 348, 345, 347]}, 'region_attributes': {'names': 'car'}}, {'shape_attributes': {'name': 'polygon', 'all_points_x': [128, 156, 160, 159, 131, 124], 'all_points_y': [321, 322, 312, 302, 298, 308]}, 'region_attributes': {'names': 'car'}}], 'file_attributes': {}}, '2.jpg327309': {'filename': '2.jpg', 'size': 327309, 'regions': [{'shape_attributes': {'name': 'polygon', 'all_points_x': [47, 35, 60, 49, 119, 147, 180, 196, 184, 186, 210, 218, 243, 255, 275, 276, 284, 317, 333, 351, 394, 438, 448, 435, 436, 465, 458, 403, 362, 340, 292, 268, 232, 189, 148, 108], 'all_points_y': [207, 253, 296, 327, 404, 391, 385, 404, 419, 458, 480, 448, 449, 458, 433, 396, 369, 346, 316, 289, 237, 203, 184, 153, 133, 90, 64, 59, 64, 56, 55, 46, 46, 99, 130, 153]}, 'region_attributes': {'names': 'ocean'}}], 'file_attributes': {}}, '3.jpg245954': {'filename': '3.jpg', 'size': 245954, 'regions': [{'shape_attributes': {'name': 'polygon', 'all_points_x': [484, 485, 492, 494], 'all_points_y': [311, 295, 296, 309]}, 'region_attributes': {'names': 'car'}}, {'shape_attributes': {'name': 'polygon', 'all_points_x': [446, 446, 454, 453], 'all_points_y': [348, 334, 335, 351]}, 'region_attributes': {'names': 'car'}}, {'shape_attributes': {'name': 'polygon', 'all_points_x': [266, 316, 316, 267], 'all_points_y': [205, 202, 212, 214]}, 'region_attributes': {'names': 'truck'}}], 'file_attributes': {}}}\n",
            "[]\n",
            "objects: ['car', 'car', 'car', 'car', 'car', 'truck', 'car', 'car', 'car']\n",
            "numids [1, 1, 1, 1, 1, 2, 1, 1, 1]\n",
            "[]\n",
            "objects: ['ocean']\n",
            "numids [3]\n",
            "[]\n",
            "objects: ['car', 'car', 'truck']\n",
            "numids [1, 1, 2]\n",
            "{'1.jpg171916': {'filename': '1.jpg', 'size': 171916, 'regions': [{'shape_attributes': {'name': 'polygon', 'all_points_x': [66, 72, 92, 95, 88, 72, 67], 'all_points_y': [234, 241, 245, 227, 220, 216, 218]}, 'region_attributes': {'names': 'car'}}, {'shape_attributes': {'name': 'polygon', 'all_points_x': [6, 31, 38, 36, 11, 4], 'all_points_y': [325, 329, 336, 355, 352, 346]}, 'region_attributes': {'names': 'car'}}, {'shape_attributes': {'name': 'polygon', 'all_points_x': [348, 369, 373, 370, 363, 347, 342], 'all_points_y': [237, 233, 224, 218, 216, 218, 226]}, 'region_attributes': {'names': 'car'}}, {'shape_attributes': {'name': 'polygon', 'all_points_x': [387, 403, 409, 409, 404, 386, 381], 'all_points_y': [229, 224, 218, 209, 204, 210, 216]}, 'region_attributes': {'names': 'car'}}, {'shape_attributes': {'name': 'polygon', 'all_points_x': [404, 426, 426, 424, 416, 398], 'all_points_y': [304, 298, 285, 278, 277, 286]}, 'region_attributes': {'names': 'car'}}, {'shape_attributes': {'name': 'polygon', 'all_points_x': [276, 275, 279, 289, 291, 291, 294, 300, 273, 270], 'all_points_y': [439, 420, 411, 410, 419, 440, 444, 509, 511, 448]}, 'region_attributes': {'names': 'truck'}}, {'shape_attributes': {'name': 'polygon', 'all_points_x': [58, 67, 89, 91, 78, 60], 'all_points_y': [351, 358, 359, 343, 336, 335]}, 'region_attributes': {'names': 'car'}}, {'shape_attributes': {'name': 'polygon', 'all_points_x': [117, 138, 144, 143, 133, 112], 'all_points_y': [364, 367, 353, 348, 345, 347]}, 'region_attributes': {'names': 'car'}}, {'shape_attributes': {'name': 'polygon', 'all_points_x': [128, 156, 160, 159, 131, 124], 'all_points_y': [321, 322, 312, 302, 298, 308]}, 'region_attributes': {'names': 'car'}}], 'file_attributes': {}}, '2.jpg327309': {'filename': '2.jpg', 'size': 327309, 'regions': [{'shape_attributes': {'name': 'polygon', 'all_points_x': [47, 35, 60, 49, 119, 147, 180, 196, 184, 186, 210, 218, 243, 255, 275, 276, 284, 317, 333, 351, 394, 438, 448, 435, 436, 465, 458, 403, 362, 340, 292, 268, 232, 189, 148, 108], 'all_points_y': [207, 253, 296, 327, 404, 391, 385, 404, 419, 458, 480, 448, 449, 458, 433, 396, 369, 346, 316, 289, 237, 203, 184, 153, 133, 90, 64, 59, 64, 56, 55, 46, 46, 99, 130, 153]}, 'region_attributes': {'names': 'ocean'}}], 'file_attributes': {}}, '3.jpg245954': {'filename': '3.jpg', 'size': 245954, 'regions': [{'shape_attributes': {'name': 'polygon', 'all_points_x': [484, 485, 492, 494], 'all_points_y': [311, 295, 296, 309]}, 'region_attributes': {'names': 'car'}}, {'shape_attributes': {'name': 'polygon', 'all_points_x': [446, 446, 454, 453], 'all_points_y': [348, 334, 335, 351]}, 'region_attributes': {'names': 'car'}}, {'shape_attributes': {'name': 'polygon', 'all_points_x': [266, 316, 316, 267], 'all_points_y': [205, 202, 212, 214]}, 'region_attributes': {'names': 'truck'}}], 'file_attributes': {}}}\n",
            "[]\n",
            "objects: ['car', 'car', 'car', 'car', 'car', 'truck', 'car', 'car', 'car']\n",
            "numids [1, 1, 1, 1, 1, 2, 1, 1, 1]\n",
            "[]\n",
            "objects: ['ocean']\n",
            "numids [3]\n",
            "[]\n",
            "objects: ['car', 'car', 'truck']\n",
            "numids [1, 1, 2]\n",
            "Training network heads\n",
            "\n",
            "Starting at epoch 0. LR=0.001\n",
            "\n",
            "Checkpoint Path: /content/drive/MyDrive/csproject/logs/object20211213T0018/mask_rcnn_object_{epoch:04d}.h5\n",
            "Selecting layers to train\n",
            "fpn_c5p5               (Conv2D)\n",
            "fpn_c4p4               (Conv2D)\n",
            "fpn_c3p3               (Conv2D)\n",
            "fpn_c2p2               (Conv2D)\n",
            "fpn_p5                 (Conv2D)\n",
            "fpn_p2                 (Conv2D)\n",
            "fpn_p3                 (Conv2D)\n",
            "fpn_p4                 (Conv2D)\n",
            "In model:  rpn_model\n",
            "    rpn_conv_shared        (Conv2D)\n",
            "    rpn_class_raw          (Conv2D)\n",
            "    rpn_bbox_pred          (Conv2D)\n",
            "mrcnn_mask_conv1       (TimeDistributed)\n",
            "mrcnn_mask_bn1         (TimeDistributed)\n",
            "mrcnn_mask_conv2       (TimeDistributed)\n",
            "mrcnn_mask_bn2         (TimeDistributed)\n",
            "mrcnn_class_conv1      (TimeDistributed)\n",
            "mrcnn_class_bn1        (TimeDistributed)\n",
            "mrcnn_mask_conv3       (TimeDistributed)\n",
            "mrcnn_mask_bn3         (TimeDistributed)\n",
            "mrcnn_class_conv2      (TimeDistributed)\n",
            "mrcnn_class_bn2        (TimeDistributed)\n",
            "mrcnn_mask_conv4       (TimeDistributed)\n",
            "mrcnn_mask_bn4         (TimeDistributed)\n",
            "mrcnn_bbox_fc          (TimeDistributed)\n",
            "mrcnn_mask_deconv      (TimeDistributed)\n",
            "mrcnn_class_logits     (TimeDistributed)\n",
            "mrcnn_mask             (TimeDistributed)\n",
            "WARNING:tensorflow:From /usr/local/lib/python3.7/dist-packages/tensorflow/python/ops/math_ops.py:3066: to_int32 (from tensorflow.python.ops.math_ops) is deprecated and will be removed in a future version.\n",
            "Instructions for updating:\n",
            "Use tf.cast instead.\n"
          ]
        },
        {
          "name": "stderr",
          "output_type": "stream",
          "text": [
            "/usr/local/lib/python3.7/dist-packages/tensorflow/python/ops/gradients_impl.py:110: UserWarning: Converting sparse IndexedSlices to a dense Tensor of unknown shape. This may consume a large amount of memory.\n",
            "  \"Converting sparse IndexedSlices to a dense Tensor of unknown shape. \"\n",
            "/usr/local/lib/python3.7/dist-packages/keras/engine/training.py:1987: UserWarning: Using a generator with `use_multiprocessing=True` and multiple workers may duplicate your data. Please consider using the`keras.utils.Sequence class.\n",
            "  UserWarning('Using a generator with `use_multiprocessing=True`'\n"
          ]
        },
        {
          "name": "stdout",
          "output_type": "stream",
          "text": [
            "Epoch 1/5\n",
            "4/5 [=======================>......] - ETA: 154s - loss: 5.0898 - rpn_class_loss: 0.2909 - rpn_bbox_loss: 0.4870 - mrcnn_class_loss: 2.3209 - mrcnn_bbox_loss: 0.9300 - mrcnn_mask_loss: 1.0610"
          ]
        },
        {
          "name": "stderr",
          "output_type": "stream",
          "text": [
            "/usr/local/lib/python3.7/dist-packages/keras/engine/training.py:2142: UserWarning: Using a generator with `use_multiprocessing=True` and multiple workers may duplicate your data. Please consider using the`keras.utils.Sequence class.\n",
            "  UserWarning('Using a generator with `use_multiprocessing=True`'\n"
          ]
        },
        {
          "name": "stdout",
          "output_type": "stream",
          "text": [
            "5/5 [==============================] - 3707s - loss: 4.6455 - rpn_class_loss: 0.2671 - rpn_bbox_loss: 0.5095 - mrcnn_class_loss: 1.9144 - mrcnn_bbox_loss: 0.9193 - mrcnn_mask_loss: 1.0352 - val_loss: 2.8918 - val_rpn_class_loss: 0.2108 - val_rpn_bbox_loss: 0.4428 - val_mrcnn_class_loss: 0.5845 - val_mrcnn_bbox_loss: 0.6664 - val_mrcnn_mask_loss: 0.9872\n",
            "Epoch 2/5\n",
            "5/5 [==============================] - 3552s - loss: 2.5570 - rpn_class_loss: 0.1747 - rpn_bbox_loss: 0.4326 - mrcnn_class_loss: 0.4526 - mrcnn_bbox_loss: 0.5909 - mrcnn_mask_loss: 0.9062 - val_loss: 2.0092 - val_rpn_class_loss: 0.0956 - val_rpn_bbox_loss: 0.3083 - val_mrcnn_class_loss: 0.3158 - val_mrcnn_bbox_loss: 0.4884 - val_mrcnn_mask_loss: 0.8011\n",
            "Epoch 3/5\n",
            "5/5 [==============================] - 3484s - loss: 1.6315 - rpn_class_loss: 0.0612 - rpn_bbox_loss: 0.2491 - mrcnn_class_loss: 0.2072 - mrcnn_bbox_loss: 0.3868 - mrcnn_mask_loss: 0.7272 - val_loss: 1.2842 - val_rpn_class_loss: 0.0407 - val_rpn_bbox_loss: 0.1685 - val_mrcnn_class_loss: 0.2238 - val_mrcnn_bbox_loss: 0.2503 - val_mrcnn_mask_loss: 0.6008\n",
            "Epoch 4/5\n",
            "5/5 [==============================] - 3467s - loss: 1.1393 - rpn_class_loss: 0.0314 - rpn_bbox_loss: 0.1544 - mrcnn_class_loss: 0.1738 - mrcnn_bbox_loss: 0.2370 - mrcnn_mask_loss: 0.5426 - val_loss: 0.9611 - val_rpn_class_loss: 0.0303 - val_rpn_bbox_loss: 0.1306 - val_mrcnn_class_loss: 0.1174 - val_mrcnn_bbox_loss: 0.1859 - val_mrcnn_mask_loss: 0.4969\n",
            "Epoch 5/5\n",
            "5/5 [==============================] - 3451s - loss: 0.9143 - rpn_class_loss: 0.0311 - rpn_bbox_loss: 0.1233 - mrcnn_class_loss: 0.1191 - mrcnn_bbox_loss: 0.1620 - mrcnn_mask_loss: 0.4788 - val_loss: 0.8205 - val_rpn_class_loss: 0.0284 - val_rpn_bbox_loss: 0.1025 - val_mrcnn_class_loss: 0.0801 - val_mrcnn_bbox_loss: 0.1539 - val_mrcnn_mask_loss: 0.4556\n"
          ]
        }
      ],
      "source": [
        "train(model)"
      ]
    }
  ],
  "metadata": {
    "accelerator": "GPU",
    "colab": {
      "collapsed_sections": [],
      "machine_shape": "hm",
      "name": "custom.ipynb",
      "provenance": [],
      "include_colab_link": true
    },
    "kernelspec": {
      "display_name": "Python 3",
      "name": "python3"
    },
    "language_info": {
      "name": "python"
    }
  },
  "nbformat": 4,
  "nbformat_minor": 0
}